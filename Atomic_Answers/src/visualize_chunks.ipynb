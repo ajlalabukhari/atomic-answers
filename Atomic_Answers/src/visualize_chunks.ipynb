{
 "cells": [
  {
   "cell_type": "code",
   "execution_count": 2,
   "metadata": {},
   "outputs": [],
   "source": [
    "# Cell 1: Imports and Path Setup\n",
    "from pathlib import Path\n",
    "import json\n",
    "import pandas as pd\n",
    "import matplotlib.pyplot as plt\n"
   ]
  },
  {
   "cell_type": "code",
   "execution_count": 3,
   "metadata": {},
   "outputs": [],
   "source": [
    "# Cell 2: Load JSONL file\n",
    "chunks_path = Path(\"../data/chunks_langchain.jsonl\")\n",
    "\n",
    "# Read JSONL line-by-line into list of dicts\n",
    "chunks = [json.loads(line) for line in chunks_path.open(\"r\", encoding=\"utf-8\")]\n",
    "df = pd.DataFrame(chunks)\n"
   ]
  },
  {
   "cell_type": "code",
   "execution_count": 4,
   "metadata": {},
   "outputs": [
    {
     "data": {
      "text/html": [
       "<div>\n",
       "<style scoped>\n",
       "    .dataframe tbody tr th:only-of-type {\n",
       "        vertical-align: middle;\n",
       "    }\n",
       "\n",
       "    .dataframe tbody tr th {\n",
       "        vertical-align: top;\n",
       "    }\n",
       "\n",
       "    .dataframe thead th {\n",
       "        text-align: right;\n",
       "    }\n",
       "</style>\n",
       "<table border=\"1\" class=\"dataframe\">\n",
       "  <thead>\n",
       "    <tr style=\"text-align: right;\">\n",
       "      <th></th>\n",
       "      <th>chunk_id</th>\n",
       "      <th>source</th>\n",
       "      <th>content</th>\n",
       "    </tr>\n",
       "  </thead>\n",
       "  <tbody>\n",
       "    <tr>\n",
       "      <th>0</th>\n",
       "      <td>chapter_00_intro_0</td>\n",
       "      <td>../data/chapters/chapter_00_intro.md</td>\n",
       "      <td># Introduction</td>\n",
       "    </tr>\n",
       "    <tr>\n",
       "      <th>1</th>\n",
       "      <td>chapter_00_intro_1</td>\n",
       "      <td>../data/chapters/chapter_00_intro.md</td>\n",
       "      <td>## An Imprint Of Penguin Random House Llc\\n375...</td>\n",
       "    </tr>\n",
       "    <tr>\n",
       "      <th>2</th>\n",
       "      <td>chapter_00_intro_2</td>\n",
       "      <td>../data/chapters/chapter_00_intro.md</td>\n",
       "      <td>complying with copyright laws by not reproduci...</td>\n",
       "    </tr>\n",
       "    <tr>\n",
       "      <th>3</th>\n",
       "      <td>chapter_00_intro_3</td>\n",
       "      <td>../data/chapters/chapter_00_intro.md</td>\n",
       "      <td>Ebook ISBN 9780735211308\\nWhile the author has...</td>\n",
       "    </tr>\n",
       "    <tr>\n",
       "      <th>4</th>\n",
       "      <td>chapter_00_intro_4</td>\n",
       "      <td>../data/chapters/chapter_00_intro.md</td>\n",
       "      <td>a·tom·ic\\nəˈtämik\\n1. an extremely small amoun...</td>\n",
       "    </tr>\n",
       "  </tbody>\n",
       "</table>\n",
       "</div>"
      ],
      "text/plain": [
       "             chunk_id                                source  \\\n",
       "0  chapter_00_intro_0  ../data/chapters/chapter_00_intro.md   \n",
       "1  chapter_00_intro_1  ../data/chapters/chapter_00_intro.md   \n",
       "2  chapter_00_intro_2  ../data/chapters/chapter_00_intro.md   \n",
       "3  chapter_00_intro_3  ../data/chapters/chapter_00_intro.md   \n",
       "4  chapter_00_intro_4  ../data/chapters/chapter_00_intro.md   \n",
       "\n",
       "                                             content  \n",
       "0                                     # Introduction  \n",
       "1  ## An Imprint Of Penguin Random House Llc\\n375...  \n",
       "2  complying with copyright laws by not reproduci...  \n",
       "3  Ebook ISBN 9780735211308\\nWhile the author has...  \n",
       "4  a·tom·ic\\nəˈtämik\\n1. an extremely small amoun...  "
      ]
     },
     "execution_count": 4,
     "metadata": {},
     "output_type": "execute_result"
    }
   ],
   "source": [
    "# Cell 3: Preview the first few chunks\n",
    "df[[\"chunk_id\", \"source\", \"content\"]].head()\n"
   ]
  },
  {
   "cell_type": "code",
   "execution_count": 5,
   "metadata": {},
   "outputs": [
    {
     "name": "stdout",
     "output_type": "stream",
     "text": [
      "📏 Average chunk size: 417.41 characters\n",
      "🔢 Total chunks: 1596\n"
     ]
    }
   ],
   "source": [
    "# Cell 4: Chunk length stats\n",
    "df[\"length\"] = df[\"content\"].apply(len)\n",
    "\n",
    "print(f\"📏 Average chunk size: {df['length'].mean():.2f} characters\")\n",
    "print(f\"🔢 Total chunks: {len(df)}\")\n"
   ]
  },
  {
   "cell_type": "code",
   "execution_count": 6,
   "metadata": {},
   "outputs": [
    {
     "data": {
      "image/png": "[encoded data removed]",
      "text/plain": [
       "<Figure size 800x400 with 1 Axes>"
      ]
     },
     "metadata": {},
     "output_type": "display_data"
    }
   ],
   "source": [
    "# Cell 5: Optional — histogram of chunk lengths\n",
    "plt.figure(figsize=(8, 4))\n",
    "plt.hist(df[\"length\"], bins=20, color=\"skyblue\", edgecolor=\"black\")\n",
    "plt.title(\"Distribution of Chunk Lengths\")\n",
    "plt.xlabel(\"Characters\")\n",
    "plt.ylabel(\"Number of Chunks\")\n",
    "plt.grid(True)\n",
    "plt.show()\n"
   ]
  }
 ],
 "metadata": {
  "kernelspec": {
   "display_name": ".venv-rag",
   "language": "python",
   "name": "python3"
  },
  "language_info": {
   "codemirror_mode": {
    "name": "ipython",
    "version": 3
   },
   "file_extension": ".py",
   "mimetype": "text/x-python",
   "name": "python",
   "nbconvert_exporter": "python",
   "pygments_lexer": "ipython3",
   "version": "3.12.3"
  }
 },
 "nbformat": 4,
 "nbformat_minor": 2
}
