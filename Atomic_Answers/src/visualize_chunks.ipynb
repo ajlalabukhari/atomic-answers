{
 "cells": [
  {
   "cell_type": "code",
   "execution_count": null,
   "metadata": {
    "vscode": {
     "languageId": "plaintext"
    }
   },
   "outputs": [],
   "source": [
    "# Cell 1: Imports and Path Setup\n",
    "from pathlib import Path\n",
    "import json\n",
    "import pandas as pd\n",
    "import matplotlib.pyplot as plt\n"
   ]
  },
  {
   "cell_type": "code",
   "execution_count": null,
   "metadata": {
    "vscode": {
     "languageId": "plaintext"
    }
   },
   "outputs": [],
   "source": [
    "# Cell 2: Load JSONL file\n",
    "chunks_path = Path(\"../data/chunks_langchain.jsonl\")\n",
    "\n",
    "# Read JSONL line-by-line into list of dicts\n",
    "chunks = [json.loads(line) for line in chunks_path.open(\"r\", encoding=\"utf-8\")]\n",
    "df = pd.DataFrame(chunks)\n"
   ]
  },
  {
   "cell_type": "code",
   "execution_count": null,
   "metadata": {
    "vscode": {
     "languageId": "plaintext"
    }
   },
   "outputs": [],
   "source": [
    "# Cell 3: Preview the first few chunks\n",
    "df[[\"chunk_id\", \"source\", \"content\"]].head()\n"
   ]
  },
  {
   "cell_type": "code",
   "execution_count": null,
   "metadata": {
    "vscode": {
     "languageId": "plaintext"
    }
   },
   "outputs": [],
   "source": [
    "# Cell 4: Chunk length stats\n",
    "df[\"length\"] = df[\"content\"].apply(len)\n",
    "\n",
    "print(f\"📏 Average chunk size: {df['length'].mean():.2f} characters\")\n",
    "print(f\"🔢 Total chunks: {len(df)}\")\n"
   ]
  },
  {
   "cell_type": "code",
   "execution_count": null,
   "metadata": {
    "vscode": {
     "languageId": "plaintext"
    }
   },
   "outputs": [],
   "source": [
    "# Cell 5: Optional — histogram of chunk lengths\n",
    "plt.figure(figsize=(8, 4))\n",
    "plt.hist(df[\"length\"], bins=20, color=\"skyblue\", edgecolor=\"black\")\n",
    "plt.title(\"Distribution of Chunk Lengths\")\n",
    "plt.xlabel(\"Characters\")\n",
    "plt.ylabel(\"Number of Chunks\")\n",
    "plt.grid(True)\n",
    "plt.show()\n"
   ]
  }
 ],
 "metadata": {
  "language_info": {
   "name": "python"
  }
 },
 "nbformat": 4,
 "nbformat_minor": 2
}
